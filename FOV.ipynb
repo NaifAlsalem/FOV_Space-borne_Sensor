{
 "cells": [
  {
   "cell_type": "code",
   "execution_count": null,
   "id": "a434ff39",
   "metadata": {},
   "outputs": [],
   "source": [
    "import math\n",
    "\n",
    "# Calculate FOV for a satellite with a sensor width of 24mm and a focal length of 50mm\n",
    "\n",
    "sensor_width = 4.3\n",
    "focal_length = 11.5\n",
    "\n",
    "fov = 2 * math.atan(sensor_width / (2 * focal_length)) * (180/math.pi)\n",
    "\n",
    "print(fov)"
   ]
  },
  {
   "cell_type": "code",
   "execution_count": null,
   "id": "73d5d991",
   "metadata": {},
   "outputs": [],
   "source": [
    "# Calculate GSD (Ground Sampling Distance) for a sensor at an altitude of 500m with a field of view of 20 degrees\n",
    "\n",
    "altitude = 500\n",
    "fov = math.radians(20)\n",
    "\n",
    "gsd = altitude * math.tan(fov/2)\n",
    "\n",
    "print(gsd)"
   ]
  },
  {
   "cell_type": "code",
   "execution_count": null,
   "id": "0e353f35",
   "metadata": {},
   "outputs": [],
   "source": []
  }
 ],
 "metadata": {
  "kernelspec": {
   "display_name": "Python 3 (ipykernel)",
   "language": "python",
   "name": "python3"
  },
  "language_info": {
   "codemirror_mode": {
    "name": "ipython",
    "version": 3
   },
   "file_extension": ".py",
   "mimetype": "text/x-python",
   "name": "python",
   "nbconvert_exporter": "python",
   "pygments_lexer": "ipython3",
   "version": "3.9.7"
  }
 },
 "nbformat": 4,
 "nbformat_minor": 5
}
