{
 "cells": [
  {
   "cell_type": "code",
   "execution_count": null,
   "id": "a434ff39",
   "metadata": {},
   "outputs": [],
   "source": [
    "import math\n",
    "\n",
    "# Calculate FOV for a satellite with a sensor width of 24mm and a focal length of 50mm\n",
    "sensor_width = 4.3\n",
    "focal_length = 11.5\n",
    "\n",
    "fov = 2 * math.atan(sensor_width / (2 * focal_length)) * (180/math.pi)\n",
    "\n",
    "print(fov)"
   ]
  }
 ],
 "metadata": {
  "kernelspec": {
   "display_name": "Python 3 (ipykernel)",
   "language": "python",
   "name": "python3"
  },
  "language_info": {
   "codemirror_mode": {
    "name": "ipython",
    "version": 3
   },
   "file_extension": ".py",
   "mimetype": "text/x-python",
   "name": "python",
   "nbconvert_exporter": "python",
   "pygments_lexer": "ipython3",
   "version": "3.9.7"
  }
 },
 "nbformat": 4,
 "nbformat_minor": 5
}
